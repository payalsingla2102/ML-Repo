{
  "nbformat": 4,
  "nbformat_minor": 0,
  "metadata": {
    "colab": {
      "provenance": []
    },
    "kernelspec": {
      "name": "python3",
      "display_name": "Python 3"
    },
    "language_info": {
      "name": "python"
    }
  },
  "cells": [
    {
      "cell_type": "markdown",
      "source": [
        "# **ML Problem Regression**\n",
        "DESCRIPTION: \n",
        "here in this problem we try to explore the relationship between the salary and the Experience in years.\n",
        "\n",
        "---"
      ],
      "metadata": {
        "id": "9d7sU7WrdpfD"
      }
    },
    {
      "cell_type": "markdown",
      "source": [
        "## **Importing the Libraries**"
      ],
      "metadata": {
        "id": "XXahxH5veO-T"
      }
    },
    {
      "cell_type": "code",
      "source": [
        "import pandas as pd\n",
        "import numpy as np\n",
        "import matplotlib.pyplot as plt\n",
        "import seaborn as sns"
      ],
      "metadata": {
        "id": "2Ej0WlukeShi"
      },
      "execution_count": 1,
      "outputs": []
    },
    {
      "cell_type": "markdown",
      "source": [
        "## **Importing the Dataset**"
      ],
      "metadata": {
        "id": "Y71fEm7qeHal"
      }
    },
    {
      "cell_type": "markdown",
      "source": [
        "here we use the github repository to upload the csv files"
      ],
      "metadata": {
        "id": "uZxPysglgdgE"
      }
    },
    {
      "cell_type": "code",
      "source": [
        "df = pd.read_csv('https://raw.githubusercontent.com/payalsingla2102/ML-Repo/main/Regression%20Model/salary_data_ques1.csv')\n"
      ],
      "metadata": {
        "id": "IQ1cxnlKeFuI"
      },
      "execution_count": 2,
      "outputs": []
    },
    {
      "cell_type": "markdown",
      "source": [
        "## **Exploring the Dataset**"
      ],
      "metadata": {
        "id": "Oz1BVQEUhVQv"
      }
    },
    {
      "cell_type": "code",
      "source": [
        "#lets see the dataset what it looks like\n",
        "df\n"
      ],
      "metadata": {
        "colab": {
          "base_uri": "https://localhost:8080/",
          "height": 989
        },
        "id": "UdNP0UK8gjOn",
        "outputId": "99ebe7f3-156f-4d3d-a203-d9eafcbc12ac"
      },
      "execution_count": 3,
      "outputs": [
        {
          "output_type": "execute_result",
          "data": {
            "text/plain": [
              "    YearsExperience  Salary\n",
              "0               1.1   39343\n",
              "1               1.3   46205\n",
              "2               1.5   37731\n",
              "3               2.0   43525\n",
              "4               2.2   39891\n",
              "5               2.9   56642\n",
              "6               3.0   60150\n",
              "7               3.2   54445\n",
              "8               3.2   64445\n",
              "9               3.7   57189\n",
              "10              3.9   63218\n",
              "11              4.0   55794\n",
              "12              4.0   56957\n",
              "13              4.1   57081\n",
              "14              4.5   61111\n",
              "15              4.9   67938\n",
              "16              5.1   66029\n",
              "17              5.3   83088\n",
              "18              5.9   81363\n",
              "19              6.0   93940\n",
              "20              6.8   91738\n",
              "21              7.1   98273\n",
              "22              7.9  101302\n",
              "23              8.2  113812\n",
              "24              8.7  109431\n",
              "25              9.0  105582\n",
              "26              9.5  116969\n",
              "27              9.6  112635\n",
              "28             10.3  122391\n",
              "29             10.5  121872"
            ],
            "text/html": [
              "\n",
              "  <div id=\"df-f5d6c7c8-6028-4756-a0a7-66d98108b7c3\">\n",
              "    <div class=\"colab-df-container\">\n",
              "      <div>\n",
              "<style scoped>\n",
              "    .dataframe tbody tr th:only-of-type {\n",
              "        vertical-align: middle;\n",
              "    }\n",
              "\n",
              "    .dataframe tbody tr th {\n",
              "        vertical-align: top;\n",
              "    }\n",
              "\n",
              "    .dataframe thead th {\n",
              "        text-align: right;\n",
              "    }\n",
              "</style>\n",
              "<table border=\"1\" class=\"dataframe\">\n",
              "  <thead>\n",
              "    <tr style=\"text-align: right;\">\n",
              "      <th></th>\n",
              "      <th>YearsExperience</th>\n",
              "      <th>Salary</th>\n",
              "    </tr>\n",
              "  </thead>\n",
              "  <tbody>\n",
              "    <tr>\n",
              "      <th>0</th>\n",
              "      <td>1.1</td>\n",
              "      <td>39343</td>\n",
              "    </tr>\n",
              "    <tr>\n",
              "      <th>1</th>\n",
              "      <td>1.3</td>\n",
              "      <td>46205</td>\n",
              "    </tr>\n",
              "    <tr>\n",
              "      <th>2</th>\n",
              "      <td>1.5</td>\n",
              "      <td>37731</td>\n",
              "    </tr>\n",
              "    <tr>\n",
              "      <th>3</th>\n",
              "      <td>2.0</td>\n",
              "      <td>43525</td>\n",
              "    </tr>\n",
              "    <tr>\n",
              "      <th>4</th>\n",
              "      <td>2.2</td>\n",
              "      <td>39891</td>\n",
              "    </tr>\n",
              "    <tr>\n",
              "      <th>5</th>\n",
              "      <td>2.9</td>\n",
              "      <td>56642</td>\n",
              "    </tr>\n",
              "    <tr>\n",
              "      <th>6</th>\n",
              "      <td>3.0</td>\n",
              "      <td>60150</td>\n",
              "    </tr>\n",
              "    <tr>\n",
              "      <th>7</th>\n",
              "      <td>3.2</td>\n",
              "      <td>54445</td>\n",
              "    </tr>\n",
              "    <tr>\n",
              "      <th>8</th>\n",
              "      <td>3.2</td>\n",
              "      <td>64445</td>\n",
              "    </tr>\n",
              "    <tr>\n",
              "      <th>9</th>\n",
              "      <td>3.7</td>\n",
              "      <td>57189</td>\n",
              "    </tr>\n",
              "    <tr>\n",
              "      <th>10</th>\n",
              "      <td>3.9</td>\n",
              "      <td>63218</td>\n",
              "    </tr>\n",
              "    <tr>\n",
              "      <th>11</th>\n",
              "      <td>4.0</td>\n",
              "      <td>55794</td>\n",
              "    </tr>\n",
              "    <tr>\n",
              "      <th>12</th>\n",
              "      <td>4.0</td>\n",
              "      <td>56957</td>\n",
              "    </tr>\n",
              "    <tr>\n",
              "      <th>13</th>\n",
              "      <td>4.1</td>\n",
              "      <td>57081</td>\n",
              "    </tr>\n",
              "    <tr>\n",
              "      <th>14</th>\n",
              "      <td>4.5</td>\n",
              "      <td>61111</td>\n",
              "    </tr>\n",
              "    <tr>\n",
              "      <th>15</th>\n",
              "      <td>4.9</td>\n",
              "      <td>67938</td>\n",
              "    </tr>\n",
              "    <tr>\n",
              "      <th>16</th>\n",
              "      <td>5.1</td>\n",
              "      <td>66029</td>\n",
              "    </tr>\n",
              "    <tr>\n",
              "      <th>17</th>\n",
              "      <td>5.3</td>\n",
              "      <td>83088</td>\n",
              "    </tr>\n",
              "    <tr>\n",
              "      <th>18</th>\n",
              "      <td>5.9</td>\n",
              "      <td>81363</td>\n",
              "    </tr>\n",
              "    <tr>\n",
              "      <th>19</th>\n",
              "      <td>6.0</td>\n",
              "      <td>93940</td>\n",
              "    </tr>\n",
              "    <tr>\n",
              "      <th>20</th>\n",
              "      <td>6.8</td>\n",
              "      <td>91738</td>\n",
              "    </tr>\n",
              "    <tr>\n",
              "      <th>21</th>\n",
              "      <td>7.1</td>\n",
              "      <td>98273</td>\n",
              "    </tr>\n",
              "    <tr>\n",
              "      <th>22</th>\n",
              "      <td>7.9</td>\n",
              "      <td>101302</td>\n",
              "    </tr>\n",
              "    <tr>\n",
              "      <th>23</th>\n",
              "      <td>8.2</td>\n",
              "      <td>113812</td>\n",
              "    </tr>\n",
              "    <tr>\n",
              "      <th>24</th>\n",
              "      <td>8.7</td>\n",
              "      <td>109431</td>\n",
              "    </tr>\n",
              "    <tr>\n",
              "      <th>25</th>\n",
              "      <td>9.0</td>\n",
              "      <td>105582</td>\n",
              "    </tr>\n",
              "    <tr>\n",
              "      <th>26</th>\n",
              "      <td>9.5</td>\n",
              "      <td>116969</td>\n",
              "    </tr>\n",
              "    <tr>\n",
              "      <th>27</th>\n",
              "      <td>9.6</td>\n",
              "      <td>112635</td>\n",
              "    </tr>\n",
              "    <tr>\n",
              "      <th>28</th>\n",
              "      <td>10.3</td>\n",
              "      <td>122391</td>\n",
              "    </tr>\n",
              "    <tr>\n",
              "      <th>29</th>\n",
              "      <td>10.5</td>\n",
              "      <td>121872</td>\n",
              "    </tr>\n",
              "  </tbody>\n",
              "</table>\n",
              "</div>\n",
              "      <button class=\"colab-df-convert\" onclick=\"convertToInteractive('df-f5d6c7c8-6028-4756-a0a7-66d98108b7c3')\"\n",
              "              title=\"Convert this dataframe to an interactive table.\"\n",
              "              style=\"display:none;\">\n",
              "        \n",
              "  <svg xmlns=\"http://www.w3.org/2000/svg\" height=\"24px\"viewBox=\"0 0 24 24\"\n",
              "       width=\"24px\">\n",
              "    <path d=\"M0 0h24v24H0V0z\" fill=\"none\"/>\n",
              "    <path d=\"M18.56 5.44l.94 2.06.94-2.06 2.06-.94-2.06-.94-.94-2.06-.94 2.06-2.06.94zm-11 1L8.5 8.5l.94-2.06 2.06-.94-2.06-.94L8.5 2.5l-.94 2.06-2.06.94zm10 10l.94 2.06.94-2.06 2.06-.94-2.06-.94-.94-2.06-.94 2.06-2.06.94z\"/><path d=\"M17.41 7.96l-1.37-1.37c-.4-.4-.92-.59-1.43-.59-.52 0-1.04.2-1.43.59L10.3 9.45l-7.72 7.72c-.78.78-.78 2.05 0 2.83L4 21.41c.39.39.9.59 1.41.59.51 0 1.02-.2 1.41-.59l7.78-7.78 2.81-2.81c.8-.78.8-2.07 0-2.86zM5.41 20L4 18.59l7.72-7.72 1.47 1.35L5.41 20z\"/>\n",
              "  </svg>\n",
              "      </button>\n",
              "      \n",
              "  <style>\n",
              "    .colab-df-container {\n",
              "      display:flex;\n",
              "      flex-wrap:wrap;\n",
              "      gap: 12px;\n",
              "    }\n",
              "\n",
              "    .colab-df-convert {\n",
              "      background-color: #E8F0FE;\n",
              "      border: none;\n",
              "      border-radius: 50%;\n",
              "      cursor: pointer;\n",
              "      display: none;\n",
              "      fill: #1967D2;\n",
              "      height: 32px;\n",
              "      padding: 0 0 0 0;\n",
              "      width: 32px;\n",
              "    }\n",
              "\n",
              "    .colab-df-convert:hover {\n",
              "      background-color: #E2EBFA;\n",
              "      box-shadow: 0px 1px 2px rgba(60, 64, 67, 0.3), 0px 1px 3px 1px rgba(60, 64, 67, 0.15);\n",
              "      fill: #174EA6;\n",
              "    }\n",
              "\n",
              "    [theme=dark] .colab-df-convert {\n",
              "      background-color: #3B4455;\n",
              "      fill: #D2E3FC;\n",
              "    }\n",
              "\n",
              "    [theme=dark] .colab-df-convert:hover {\n",
              "      background-color: #434B5C;\n",
              "      box-shadow: 0px 1px 3px 1px rgba(0, 0, 0, 0.15);\n",
              "      filter: drop-shadow(0px 1px 2px rgba(0, 0, 0, 0.3));\n",
              "      fill: #FFFFFF;\n",
              "    }\n",
              "  </style>\n",
              "\n",
              "      <script>\n",
              "        const buttonEl =\n",
              "          document.querySelector('#df-f5d6c7c8-6028-4756-a0a7-66d98108b7c3 button.colab-df-convert');\n",
              "        buttonEl.style.display =\n",
              "          google.colab.kernel.accessAllowed ? 'block' : 'none';\n",
              "\n",
              "        async function convertToInteractive(key) {\n",
              "          const element = document.querySelector('#df-f5d6c7c8-6028-4756-a0a7-66d98108b7c3');\n",
              "          const dataTable =\n",
              "            await google.colab.kernel.invokeFunction('convertToInteractive',\n",
              "                                                     [key], {});\n",
              "          if (!dataTable) return;\n",
              "\n",
              "          const docLinkHtml = 'Like what you see? Visit the ' +\n",
              "            '<a target=\"_blank\" href=https://colab.research.google.com/notebooks/data_table.ipynb>data table notebook</a>'\n",
              "            + ' to learn more about interactive tables.';\n",
              "          element.innerHTML = '';\n",
              "          dataTable['output_type'] = 'display_data';\n",
              "          await google.colab.output.renderOutput(dataTable, element);\n",
              "          const docLink = document.createElement('div');\n",
              "          docLink.innerHTML = docLinkHtml;\n",
              "          element.appendChild(docLink);\n",
              "        }\n",
              "      </script>\n",
              "    </div>\n",
              "  </div>\n",
              "  "
            ]
          },
          "metadata": {},
          "execution_count": 3
        }
      ]
    },
    {
      "cell_type": "code",
      "source": [
        "df.describe()"
      ],
      "metadata": {
        "colab": {
          "base_uri": "https://localhost:8080/",
          "height": 300
        },
        "id": "0UMnkRY0gsQ2",
        "outputId": "e33ec997-6338-4e04-d40a-8664f4c993db"
      },
      "execution_count": 4,
      "outputs": [
        {
          "output_type": "execute_result",
          "data": {
            "text/plain": [
              "       YearsExperience         Salary\n",
              "count        30.000000      30.000000\n",
              "mean          5.313333   76003.000000\n",
              "std           2.837888   27414.429785\n",
              "min           1.100000   37731.000000\n",
              "25%           3.200000   56720.750000\n",
              "50%           4.700000   65237.000000\n",
              "75%           7.700000  100544.750000\n",
              "max          10.500000  122391.000000"
            ],
            "text/html": [
              "\n",
              "  <div id=\"df-19c76009-6657-468f-9a1e-f3252c27de9a\">\n",
              "    <div class=\"colab-df-container\">\n",
              "      <div>\n",
              "<style scoped>\n",
              "    .dataframe tbody tr th:only-of-type {\n",
              "        vertical-align: middle;\n",
              "    }\n",
              "\n",
              "    .dataframe tbody tr th {\n",
              "        vertical-align: top;\n",
              "    }\n",
              "\n",
              "    .dataframe thead th {\n",
              "        text-align: right;\n",
              "    }\n",
              "</style>\n",
              "<table border=\"1\" class=\"dataframe\">\n",
              "  <thead>\n",
              "    <tr style=\"text-align: right;\">\n",
              "      <th></th>\n",
              "      <th>YearsExperience</th>\n",
              "      <th>Salary</th>\n",
              "    </tr>\n",
              "  </thead>\n",
              "  <tbody>\n",
              "    <tr>\n",
              "      <th>count</th>\n",
              "      <td>30.000000</td>\n",
              "      <td>30.000000</td>\n",
              "    </tr>\n",
              "    <tr>\n",
              "      <th>mean</th>\n",
              "      <td>5.313333</td>\n",
              "      <td>76003.000000</td>\n",
              "    </tr>\n",
              "    <tr>\n",
              "      <th>std</th>\n",
              "      <td>2.837888</td>\n",
              "      <td>27414.429785</td>\n",
              "    </tr>\n",
              "    <tr>\n",
              "      <th>min</th>\n",
              "      <td>1.100000</td>\n",
              "      <td>37731.000000</td>\n",
              "    </tr>\n",
              "    <tr>\n",
              "      <th>25%</th>\n",
              "      <td>3.200000</td>\n",
              "      <td>56720.750000</td>\n",
              "    </tr>\n",
              "    <tr>\n",
              "      <th>50%</th>\n",
              "      <td>4.700000</td>\n",
              "      <td>65237.000000</td>\n",
              "    </tr>\n",
              "    <tr>\n",
              "      <th>75%</th>\n",
              "      <td>7.700000</td>\n",
              "      <td>100544.750000</td>\n",
              "    </tr>\n",
              "    <tr>\n",
              "      <th>max</th>\n",
              "      <td>10.500000</td>\n",
              "      <td>122391.000000</td>\n",
              "    </tr>\n",
              "  </tbody>\n",
              "</table>\n",
              "</div>\n",
              "      <button class=\"colab-df-convert\" onclick=\"convertToInteractive('df-19c76009-6657-468f-9a1e-f3252c27de9a')\"\n",
              "              title=\"Convert this dataframe to an interactive table.\"\n",
              "              style=\"display:none;\">\n",
              "        \n",
              "  <svg xmlns=\"http://www.w3.org/2000/svg\" height=\"24px\"viewBox=\"0 0 24 24\"\n",
              "       width=\"24px\">\n",
              "    <path d=\"M0 0h24v24H0V0z\" fill=\"none\"/>\n",
              "    <path d=\"M18.56 5.44l.94 2.06.94-2.06 2.06-.94-2.06-.94-.94-2.06-.94 2.06-2.06.94zm-11 1L8.5 8.5l.94-2.06 2.06-.94-2.06-.94L8.5 2.5l-.94 2.06-2.06.94zm10 10l.94 2.06.94-2.06 2.06-.94-2.06-.94-.94-2.06-.94 2.06-2.06.94z\"/><path d=\"M17.41 7.96l-1.37-1.37c-.4-.4-.92-.59-1.43-.59-.52 0-1.04.2-1.43.59L10.3 9.45l-7.72 7.72c-.78.78-.78 2.05 0 2.83L4 21.41c.39.39.9.59 1.41.59.51 0 1.02-.2 1.41-.59l7.78-7.78 2.81-2.81c.8-.78.8-2.07 0-2.86zM5.41 20L4 18.59l7.72-7.72 1.47 1.35L5.41 20z\"/>\n",
              "  </svg>\n",
              "      </button>\n",
              "      \n",
              "  <style>\n",
              "    .colab-df-container {\n",
              "      display:flex;\n",
              "      flex-wrap:wrap;\n",
              "      gap: 12px;\n",
              "    }\n",
              "\n",
              "    .colab-df-convert {\n",
              "      background-color: #E8F0FE;\n",
              "      border: none;\n",
              "      border-radius: 50%;\n",
              "      cursor: pointer;\n",
              "      display: none;\n",
              "      fill: #1967D2;\n",
              "      height: 32px;\n",
              "      padding: 0 0 0 0;\n",
              "      width: 32px;\n",
              "    }\n",
              "\n",
              "    .colab-df-convert:hover {\n",
              "      background-color: #E2EBFA;\n",
              "      box-shadow: 0px 1px 2px rgba(60, 64, 67, 0.3), 0px 1px 3px 1px rgba(60, 64, 67, 0.15);\n",
              "      fill: #174EA6;\n",
              "    }\n",
              "\n",
              "    [theme=dark] .colab-df-convert {\n",
              "      background-color: #3B4455;\n",
              "      fill: #D2E3FC;\n",
              "    }\n",
              "\n",
              "    [theme=dark] .colab-df-convert:hover {\n",
              "      background-color: #434B5C;\n",
              "      box-shadow: 0px 1px 3px 1px rgba(0, 0, 0, 0.15);\n",
              "      filter: drop-shadow(0px 1px 2px rgba(0, 0, 0, 0.3));\n",
              "      fill: #FFFFFF;\n",
              "    }\n",
              "  </style>\n",
              "\n",
              "      <script>\n",
              "        const buttonEl =\n",
              "          document.querySelector('#df-19c76009-6657-468f-9a1e-f3252c27de9a button.colab-df-convert');\n",
              "        buttonEl.style.display =\n",
              "          google.colab.kernel.accessAllowed ? 'block' : 'none';\n",
              "\n",
              "        async function convertToInteractive(key) {\n",
              "          const element = document.querySelector('#df-19c76009-6657-468f-9a1e-f3252c27de9a');\n",
              "          const dataTable =\n",
              "            await google.colab.kernel.invokeFunction('convertToInteractive',\n",
              "                                                     [key], {});\n",
              "          if (!dataTable) return;\n",
              "\n",
              "          const docLinkHtml = 'Like what you see? Visit the ' +\n",
              "            '<a target=\"_blank\" href=https://colab.research.google.com/notebooks/data_table.ipynb>data table notebook</a>'\n",
              "            + ' to learn more about interactive tables.';\n",
              "          element.innerHTML = '';\n",
              "          dataTable['output_type'] = 'display_data';\n",
              "          await google.colab.output.renderOutput(dataTable, element);\n",
              "          const docLink = document.createElement('div');\n",
              "          docLink.innerHTML = docLinkHtml;\n",
              "          element.appendChild(docLink);\n",
              "        }\n",
              "      </script>\n",
              "    </div>\n",
              "  </div>\n",
              "  "
            ]
          },
          "metadata": {},
          "execution_count": 4
        }
      ]
    },
    {
      "cell_type": "code",
      "source": [
        "df['YearsExperience'].describe()"
      ],
      "metadata": {
        "colab": {
          "base_uri": "https://localhost:8080/"
        },
        "id": "nFTNg315gyQv",
        "outputId": "b545c7d3-7af6-463d-e164-1e8a3b7de670"
      },
      "execution_count": 5,
      "outputs": [
        {
          "output_type": "execute_result",
          "data": {
            "text/plain": [
              "count    30.000000\n",
              "mean      5.313333\n",
              "std       2.837888\n",
              "min       1.100000\n",
              "25%       3.200000\n",
              "50%       4.700000\n",
              "75%       7.700000\n",
              "max      10.500000\n",
              "Name: YearsExperience, dtype: float64"
            ]
          },
          "metadata": {},
          "execution_count": 5
        }
      ]
    },
    {
      "cell_type": "code",
      "source": [
        "df['Salary'].describe()"
      ],
      "metadata": {
        "colab": {
          "base_uri": "https://localhost:8080/"
        },
        "id": "kJq_JP6Jg4wV",
        "outputId": "4b8762be-e284-417b-af73-4554c2f4043e"
      },
      "execution_count": 6,
      "outputs": [
        {
          "output_type": "execute_result",
          "data": {
            "text/plain": [
              "count        30.000000\n",
              "mean      76003.000000\n",
              "std       27414.429785\n",
              "min       37731.000000\n",
              "25%       56720.750000\n",
              "50%       65237.000000\n",
              "75%      100544.750000\n",
              "max      122391.000000\n",
              "Name: Salary, dtype: float64"
            ]
          },
          "metadata": {},
          "execution_count": 6
        }
      ]
    },
    {
      "cell_type": "code",
      "source": [
        "df.count().isnull()\n"
      ],
      "metadata": {
        "colab": {
          "base_uri": "https://localhost:8080/"
        },
        "id": "4VZgkEVdi0C4",
        "outputId": "1df845d8-9864-4716-e045-c5044e53bfd4"
      },
      "execution_count": 7,
      "outputs": [
        {
          "output_type": "execute_result",
          "data": {
            "text/plain": [
              "YearsExperience    False\n",
              "Salary             False\n",
              "dtype: bool"
            ]
          },
          "metadata": {},
          "execution_count": 7
        }
      ]
    },
    {
      "cell_type": "code",
      "source": [
        "df.info()"
      ],
      "metadata": {
        "colab": {
          "base_uri": "https://localhost:8080/"
        },
        "id": "-wCa6YtAjBJ3",
        "outputId": "2c750bcb-62b0-456b-98c4-04334bfbceb5"
      },
      "execution_count": 8,
      "outputs": [
        {
          "output_type": "stream",
          "name": "stdout",
          "text": [
            "<class 'pandas.core.frame.DataFrame'>\n",
            "RangeIndex: 30 entries, 0 to 29\n",
            "Data columns (total 2 columns):\n",
            " #   Column           Non-Null Count  Dtype  \n",
            "---  ------           --------------  -----  \n",
            " 0   YearsExperience  30 non-null     float64\n",
            " 1   Salary           30 non-null     int64  \n",
            "dtypes: float64(1), int64(1)\n",
            "memory usage: 608.0 bytes\n"
          ]
        }
      ]
    },
    {
      "cell_type": "markdown",
      "source": [
        "**Clearly there are 30 observations in each column.**\n",
        "\n",
        "There are no NULL, Missing values in the dataset \n",
        "\n",
        "The data is all in Numerical format. An apt representation would be a scatterplot."
      ],
      "metadata": {
        "id": "zWs1HlWqhFvY"
      }
    },
    {
      "cell_type": "markdown",
      "source": [
        "As we can see that YearsExperience comes out to be an Independent Variable, while the Salary is a Dependant Variable."
      ],
      "metadata": {
        "id": "YeN7hN2xjwJw"
      }
    },
    {
      "cell_type": "markdown",
      "source": [
        "## **Visualizing the Dataset**"
      ],
      "metadata": {
        "id": "LZ3ibtrljPIv"
      }
    },
    {
      "cell_type": "code",
      "source": [
        "plt.scatter(df['YearsExperience'],df['Salary'])\n",
        "plt.xlabel('Years of EAXPERIENCE')\n",
        "plt.ylabel('Salary')\n",
        "plt.title(\"Salary with Years of Experience\")\n",
        "plt.show()"
      ],
      "metadata": {
        "colab": {
          "base_uri": "https://localhost:8080/",
          "height": 295
        },
        "id": "_WXaeyOZjlHT",
        "outputId": "8fe7d4bd-d659-4e6d-992d-ec6ae57dd9ac"
      },
      "execution_count": 9,
      "outputs": [
        {
          "output_type": "display_data",
          "data": {
            "text/plain": [
              "<Figure size 432x288 with 1 Axes>"
            ],
            "image/png": "[encoded data removed]"
          },
          "metadata": {
            "needs_background": "light"
          }
        }
      ]
    },
    {
      "cell_type": "markdown",
      "source": [
        "## **Making the Model**"
      ],
      "metadata": {
        "id": "JTlA4W_tof5Y"
      }
    },
    {
      "cell_type": "markdown",
      "source": [
        "### **Prepare the Data**"
      ],
      "metadata": {
        "id": "GCDDY2pCjabE"
      }
    },
    {
      "cell_type": "code",
      "source": [
        "X= df.iloc[:, :-1]\n",
        "y= df.iloc[:,-1]\n"
      ],
      "metadata": {
        "id": "byLvQ6gxiq3K"
      },
      "execution_count": 10,
      "outputs": []
    },
    {
      "cell_type": "markdown",
      "source": [
        "### **Test- Train Split**\n",
        "intially we start with the 80-20 train-test split"
      ],
      "metadata": {
        "id": "U3Ylx7FkonCB"
      }
    },
    {
      "cell_type": "code",
      "source": [
        "from sklearn.model_selection import train_test_split\n",
        "\n",
        "X_train,X_test, y_train, y_test = train_test_split(X, y, shuffle = True, random_state = 0, test_size= 0.2)\n",
        "X_train.shape , X_test.shape, y_train.shape, y_test.shape\n"
      ],
      "metadata": {
        "colab": {
          "base_uri": "https://localhost:8080/"
        },
        "id": "ppJgx9oHnqvs",
        "outputId": "fbb0b720-bfe5-46c7-c8de-ffec7ff72ee0"
      },
      "execution_count": 11,
      "outputs": [
        {
          "output_type": "execute_result",
          "data": {
            "text/plain": [
              "((24, 1), (6, 1), (24,), (6,))"
            ]
          },
          "metadata": {},
          "execution_count": 11
        }
      ]
    },
    {
      "cell_type": "markdown",
      "source": [
        "### **Importing the model and fitting**"
      ],
      "metadata": {
        "id": "gi7etFgUo4AA"
      }
    },
    {
      "cell_type": "code",
      "source": [
        "#Importing the model \n",
        "from sklearn.linear_model import LinearRegression\n",
        "l_regression = LinearRegression()\n",
        "\n",
        "#fitting the model\n",
        "l_regression.fit(X_train, y_train)\n",
        "\n",
        "\n"
      ],
      "metadata": {
        "colab": {
          "base_uri": "https://localhost:8080/"
        },
        "id": "j3bFzefjoYki",
        "outputId": "46b7532e-5c5a-4210-c0a9-0152a2df24ba"
      },
      "execution_count": 12,
      "outputs": [
        {
          "output_type": "execute_result",
          "data": {
            "text/plain": [
              "LinearRegression()"
            ]
          },
          "metadata": {},
          "execution_count": 12
        }
      ]
    },
    {
      "cell_type": "markdown",
      "source": [
        "## **Results and Optimization**"
      ],
      "metadata": {
        "id": "JhuZiIU-pyQM"
      }
    },
    {
      "cell_type": "markdown",
      "source": [
        "### **Results**"
      ],
      "metadata": {
        "id": "f7-lqppFp3XF"
      }
    },
    {
      "cell_type": "code",
      "source": [
        "#making the predictions\n",
        "predictions = l_regression.predict(X_test)\n",
        "\n",
        "#calculating the error\n",
        "diff = y_test - predictions\n",
        "\n",
        "#making a dataframe for the error\n",
        "Error = pd.DataFrame(np.c_[y_test, predictions, diff], columns = ['Actual', 'Predicted','Difference'])\n",
        "Error"
      ],
      "metadata": {
        "colab": {
          "base_uri": "https://localhost:8080/",
          "height": 237
        },
        "id": "nTqquWv1prm1",
        "outputId": "84335c1f-b55d-4f84-ef4f-336411866871"
      },
      "execution_count": 13,
      "outputs": [
        {
          "output_type": "execute_result",
          "data": {
            "text/plain": [
              "     Actual      Predicted   Difference\n",
              "0   37731.0   40748.961841 -3017.961841\n",
              "1  122391.0  122699.622956  -308.622956\n",
              "2   57081.0   64961.657170 -7880.657170\n",
              "3   63218.0   63099.142145   118.857855\n",
              "4  116969.0  115249.562855  1719.437145\n",
              "5  109431.0  107799.502753  1631.497247"
            ],
            "text/html": [
              "\n",
              "  <div id=\"df-438fcc7e-7eed-4005-b416-0f5791966c69\">\n",
              "    <div class=\"colab-df-container\">\n",
              "      <div>\n",
              "<style scoped>\n",
              "    .dataframe tbody tr th:only-of-type {\n",
              "        vertical-align: middle;\n",
              "    }\n",
              "\n",
              "    .dataframe tbody tr th {\n",
              "        vertical-align: top;\n",
              "    }\n",
              "\n",
              "    .dataframe thead th {\n",
              "        text-align: right;\n",
              "    }\n",
              "</style>\n",
              "<table border=\"1\" class=\"dataframe\">\n",
              "  <thead>\n",
              "    <tr style=\"text-align: right;\">\n",
              "      <th></th>\n",
              "      <th>Actual</th>\n",
              "      <th>Predicted</th>\n",
              "      <th>Difference</th>\n",
              "    </tr>\n",
              "  </thead>\n",
              "  <tbody>\n",
              "    <tr>\n",
              "      <th>0</th>\n",
              "      <td>37731.0</td>\n",
              "      <td>40748.961841</td>\n",
              "      <td>-3017.961841</td>\n",
              "    </tr>\n",
              "    <tr>\n",
              "      <th>1</th>\n",
              "      <td>122391.0</td>\n",
              "      <td>122699.622956</td>\n",
              "      <td>-308.622956</td>\n",
              "    </tr>\n",
              "    <tr>\n",
              "      <th>2</th>\n",
              "      <td>57081.0</td>\n",
              "      <td>64961.657170</td>\n",
              "      <td>-7880.657170</td>\n",
              "    </tr>\n",
              "    <tr>\n",
              "      <th>3</th>\n",
              "      <td>63218.0</td>\n",
              "      <td>63099.142145</td>\n",
              "      <td>118.857855</td>\n",
              "    </tr>\n",
              "    <tr>\n",
              "      <th>4</th>\n",
              "      <td>116969.0</td>\n",
              "      <td>115249.562855</td>\n",
              "      <td>1719.437145</td>\n",
              "    </tr>\n",
              "    <tr>\n",
              "      <th>5</th>\n",
              "      <td>109431.0</td>\n",
              "      <td>107799.502753</td>\n",
              "      <td>1631.497247</td>\n",
              "    </tr>\n",
              "  </tbody>\n",
              "</table>\n",
              "</div>\n",
              "      <button class=\"colab-df-convert\" onclick=\"convertToInteractive('df-438fcc7e-7eed-4005-b416-0f5791966c69')\"\n",
              "              title=\"Convert this dataframe to an interactive table.\"\n",
              "              style=\"display:none;\">\n",
              "        \n",
              "  <svg xmlns=\"http://www.w3.org/2000/svg\" height=\"24px\"viewBox=\"0 0 24 24\"\n",
              "       width=\"24px\">\n",
              "    <path d=\"M0 0h24v24H0V0z\" fill=\"none\"/>\n",
              "    <path d=\"M18.56 5.44l.94 2.06.94-2.06 2.06-.94-2.06-.94-.94-2.06-.94 2.06-2.06.94zm-11 1L8.5 8.5l.94-2.06 2.06-.94-2.06-.94L8.5 2.5l-.94 2.06-2.06.94zm10 10l.94 2.06.94-2.06 2.06-.94-2.06-.94-.94-2.06-.94 2.06-2.06.94z\"/><path d=\"M17.41 7.96l-1.37-1.37c-.4-.4-.92-.59-1.43-.59-.52 0-1.04.2-1.43.59L10.3 9.45l-7.72 7.72c-.78.78-.78 2.05 0 2.83L4 21.41c.39.39.9.59 1.41.59.51 0 1.02-.2 1.41-.59l7.78-7.78 2.81-2.81c.8-.78.8-2.07 0-2.86zM5.41 20L4 18.59l7.72-7.72 1.47 1.35L5.41 20z\"/>\n",
              "  </svg>\n",
              "      </button>\n",
              "      \n",
              "  <style>\n",
              "    .colab-df-container {\n",
              "      display:flex;\n",
              "      flex-wrap:wrap;\n",
              "      gap: 12px;\n",
              "    }\n",
              "\n",
              "    .colab-df-convert {\n",
              "      background-color: #E8F0FE;\n",
              "      border: none;\n",
              "      border-radius: 50%;\n",
              "      cursor: pointer;\n",
              "      display: none;\n",
              "      fill: #1967D2;\n",
              "      height: 32px;\n",
              "      padding: 0 0 0 0;\n",
              "      width: 32px;\n",
              "    }\n",
              "\n",
              "    .colab-df-convert:hover {\n",
              "      background-color: #E2EBFA;\n",
              "      box-shadow: 0px 1px 2px rgba(60, 64, 67, 0.3), 0px 1px 3px 1px rgba(60, 64, 67, 0.15);\n",
              "      fill: #174EA6;\n",
              "    }\n",
              "\n",
              "    [theme=dark] .colab-df-convert {\n",
              "      background-color: #3B4455;\n",
              "      fill: #D2E3FC;\n",
              "    }\n",
              "\n",
              "    [theme=dark] .colab-df-convert:hover {\n",
              "      background-color: #434B5C;\n",
              "      box-shadow: 0px 1px 3px 1px rgba(0, 0, 0, 0.15);\n",
              "      filter: drop-shadow(0px 1px 2px rgba(0, 0, 0, 0.3));\n",
              "      fill: #FFFFFF;\n",
              "    }\n",
              "  </style>\n",
              "\n",
              "      <script>\n",
              "        const buttonEl =\n",
              "          document.querySelector('#df-438fcc7e-7eed-4005-b416-0f5791966c69 button.colab-df-convert');\n",
              "        buttonEl.style.display =\n",
              "          google.colab.kernel.accessAllowed ? 'block' : 'none';\n",
              "\n",
              "        async function convertToInteractive(key) {\n",
              "          const element = document.querySelector('#df-438fcc7e-7eed-4005-b416-0f5791966c69');\n",
              "          const dataTable =\n",
              "            await google.colab.kernel.invokeFunction('convertToInteractive',\n",
              "                                                     [key], {});\n",
              "          if (!dataTable) return;\n",
              "\n",
              "          const docLinkHtml = 'Like what you see? Visit the ' +\n",
              "            '<a target=\"_blank\" href=https://colab.research.google.com/notebooks/data_table.ipynb>data table notebook</a>'\n",
              "            + ' to learn more about interactive tables.';\n",
              "          element.innerHTML = '';\n",
              "          dataTable['output_type'] = 'display_data';\n",
              "          await google.colab.output.renderOutput(dataTable, element);\n",
              "          const docLink = document.createElement('div');\n",
              "          docLink.innerHTML = docLinkHtml;\n",
              "          element.appendChild(docLink);\n",
              "        }\n",
              "      </script>\n",
              "    </div>\n",
              "  </div>\n",
              "  "
            ]
          },
          "metadata": {},
          "execution_count": 13
        }
      ]
    },
    {
      "cell_type": "markdown",
      "source": [
        "### **Visualize the results**"
      ],
      "metadata": {
        "id": "1H5hwW00sZKI"
      }
    },
    {
      "cell_type": "markdown",
      "source": [
        "**On training data**"
      ],
      "metadata": {
        "id": "tHPCVHMjsfO7"
      }
    },
    {
      "cell_type": "code",
      "source": [
        "plt.scatter(X_train, y_train, color = 'blue')\n",
        "plt.plot(X_train, l_regression.predict(X_train), color= 'red')\n",
        "plt.title('SALARY VS EXPERIENCE')\n",
        "plt.xlabel('Years of Experience')\n",
        "plt.ylabel('Salary')\n",
        "plt.show()\n",
        "\n",
        "\n"
      ],
      "metadata": {
        "colab": {
          "base_uri": "https://localhost:8080/",
          "height": 295
        },
        "id": "CVDMVh-jsKl0",
        "outputId": "a7372882-ff8c-439e-f7ba-1f914b30b59e"
      },
      "execution_count": 14,
      "outputs": [
        {
          "output_type": "display_data",
          "data": {
            "text/plain": [
              "<Figure size 432x288 with 1 Axes>"
            ],
            "image/png": "[encoded data removed]"
          },
          "metadata": {
            "needs_background": "light"
          }
        }
      ]
    },
    {
      "cell_type": "markdown",
      "source": [
        "**On testing data**"
      ],
      "metadata": {
        "id": "87mWXtdAuhuL"
      }
    },
    {
      "cell_type": "code",
      "source": [
        "plt.scatter(X_test, y_test, color = 'blue')\n",
        "plt.plot(X_test, l_regression.predict(X_test), color = 'red')\n",
        "plt.xlabel(\"Years of Experience\")\n",
        "plt.ylabel(\"Salary\")\n",
        "plt.title('Analysis on the test data')\n",
        "plt.show()\n",
        "\n",
        "from sklearn.metrics import mean_squared_error\n",
        "mse = mean_squared_error(y_test, predictions)\n",
        "rmse = np.sqrt(mse)\n",
        "print('RMSE : ',np.round(rmse,2))"
      ],
      "metadata": {
        "colab": {
          "base_uri": "https://localhost:8080/",
          "height": 313
        },
        "id": "MnlRQ5yyulNx",
        "outputId": "c44b2c0f-9256-481f-b223-6ac7d60f4ffa"
      },
      "execution_count": 15,
      "outputs": [
        {
          "output_type": "display_data",
          "data": {
            "text/plain": [
              "<Figure size 432x288 with 1 Axes>"
            ],
            "image/png": "[encoded data removed]"
          },
          "metadata": {
            "needs_background": "light"
          }
        },
        {
          "output_type": "stream",
          "name": "stdout",
          "text": [
            "RMSE :  3580.98\n"
          ]
        }
      ]
    },
    {
      "cell_type": "markdown",
      "source": [
        "**RSME Score**\n",
        "Since we have the parameter of random_state the above predicted RMSE score cannot be accounted as the final score . So get a near accurate score we use cross fold validation to get the RMSE value \n",
        "\n",
        "A visual representation is given in the following image\n",
        "![cross_val_score-method.png](data:image/png;base64,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)"
      ],
      "metadata": {
        "id": "cjplbCTN0TzZ"
      }
    },
    {
      "cell_type": "code",
      "source": [
        "from sklearn.model_selection import cross_val_score\n",
        "score = cross_val_score(l_regression, X, y, cv= 4, scoring = \"neg_root_mean_squared_error\")\n",
        "score\n"
      ],
      "metadata": {
        "colab": {
          "base_uri": "https://localhost:8080/"
        },
        "id": "-Mnu5Lut1D8k",
        "outputId": "5c0af153-9827-489a-9412-fd2c6146f21f"
      },
      "execution_count": 16,
      "outputs": [
        {
          "output_type": "execute_result",
          "data": {
            "text/plain": [
              "array([-5530.33672957, -7204.42174773, -6794.52655716, -5077.34894654])"
            ]
          },
          "metadata": {},
          "execution_count": 16
        }
      ]
    },
    {
      "cell_type": "markdown",
      "source": [
        "## **Testing on custom data**"
      ],
      "metadata": {
        "id": "7Dfv8ob5xKSU"
      }
    },
    {
      "cell_type": "code",
      "source": [
        "exp = input()\n",
        "print(f'Salary of {exp} years preson is = {int(l_regression.predict([[exp]])[0])} rupees')\n"
      ],
      "metadata": {
        "colab": {
          "base_uri": "https://localhost:8080/"
        },
        "id": "702wgACzxBZy",
        "outputId": "5e560ddb-c533-49a4-b1f2-91ec22905f7a"
      },
      "execution_count": 18,
      "outputs": [
        {
          "output_type": "stream",
          "name": "stdout",
          "text": [
            "5\n",
            "Salary of 5 years preson is = 73342 rupees\n"
          ]
        },
        {
          "output_type": "stream",
          "name": "stderr",
          "text": [
            "/usr/local/lib/python3.8/dist-packages/sklearn/base.py:450: UserWarning: X does not have valid feature names, but LinearRegression was fitted with feature names\n",
            "  warnings.warn(\n",
            "/usr/local/lib/python3.8/dist-packages/sklearn/base.py:566: FutureWarning: Arrays of bytes/strings is being converted to decimal numbers if dtype='numeric'. This behavior is deprecated in 0.24 and will be removed in 1.1 (renaming of 0.26). Please convert your data to numeric values explicitly instead.\n",
            "  X = check_array(X, **check_params)\n"
          ]
        }
      ]
    }
  ]
}