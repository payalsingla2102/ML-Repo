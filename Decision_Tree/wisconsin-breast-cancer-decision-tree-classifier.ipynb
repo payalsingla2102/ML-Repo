{
 "cells": [
  {
   "cell_type": "code",
   "execution_count": 1,
   "id": "687ebe6c",
   "metadata": {
    "_cell_guid": "b1076dfc-b9ad-4769-8c92-a6c4dae69d19",
    "_uuid": "8f2839f25d086af736a60e9eeb907d3b93b6e0e5",
    "execution": {
     "iopub.execute_input": "2022-01-05T15:35:53.851629Z",
     "iopub.status.busy": "2022-01-05T15:35:53.850483Z",
     "iopub.status.idle": "2022-01-05T15:35:53.868612Z",
     "shell.execute_reply": "2022-01-05T15:35:53.869071Z",
     "shell.execute_reply.started": "2022-01-05T15:31:35.700704Z"
    },
    "papermill": {
     "duration": 0.030308,
     "end_time": "2022-01-05T15:35:53.869477",
     "exception": false,
     "start_time": "2022-01-05T15:35:53.839169",
     "status": "completed"
    },
    "tags": []
   },
   "outputs": [
    {
     "name": "stdout",
     "output_type": "stream",
     "text": [
      "/kaggle/input/breast-cancer-wisconsin-data/data.csv\n"
     ]
    }
   ],
   "source": [
    "# This Python 3 environment comes with many helpful analytics libraries installed\n",
    "# It is defined by the kaggle/python Docker image: https://github.com/kaggle/docker-python\n",
    "# For example, here's several helpful packages to load\n",
    "\n",
    "import numpy as np # linear algebra\n",
    "import pandas as pd # data processing, CSV file I/O (e.g. pd.read_csv)\n",
    "\n",
    "# Input data files are available in the read-only \"../input/\" directory\n",
    "# For example, running this (by clicking run or pressing Shift+Enter) will list all files under the input directory\n",
    "\n",
    "import os\n",
    "for dirname, _, filenames in os.walk('/kaggle/input'):\n",
    "    for filename in filenames:\n",
    "        print(os.path.join(dirname, filename))\n",
    "\n",
    "# You can write up to 20GB to the current directory (/kaggle/working/) that gets preserved as output when you create a version using \"Save & Run All\" \n",
    "# You can also write temporary files to /kaggle/temp/, but they won't be saved outside of the current session"
   ]
  },
  {
   "cell_type": "code",
   "execution_count": 2,
   "id": "2d64b34f",
   "metadata": {
    "execution": {
     "iopub.execute_input": "2022-01-05T15:35:53.887182Z",
     "iopub.status.busy": "2022-01-05T15:35:53.886590Z",
     "iopub.status.idle": "2022-01-05T15:35:55.119070Z",
     "shell.execute_reply": "2022-01-05T15:35:55.118374Z",
     "shell.execute_reply.started": "2022-01-05T15:31:35.715273Z"
    },
    "papermill": {
     "duration": 1.241627,
     "end_time": "2022-01-05T15:35:55.119212",
     "exception": false,
     "start_time": "2022-01-05T15:35:53.877585",
     "status": "completed"
    },
    "tags": []
   },
   "outputs": [],
   "source": [
    "#sklearn Imports\n",
    "from sklearn.tree import DecisionTreeClassifier # Import Decision Tree Classifier\n",
    "from sklearn.model_selection import train_test_split # Import train_test_split function\n",
    "from sklearn.metrics import accuracy_score, confusion_matrix"
   ]
  },
  {
   "cell_type": "markdown",
   "id": "3597d3f1",
   "metadata": {
    "papermill": {
     "duration": 0.006826,
     "end_time": "2022-01-05T15:35:55.133539",
     "exception": false,
     "start_time": "2022-01-05T15:35:55.126713",
     "status": "completed"
    },
    "tags": []
   },
   "source": [
    "We will read data file into DATA variable."
   ]
  },
  {
   "cell_type": "code",
   "execution_count": 3,
   "id": "2f838716",
   "metadata": {
    "execution": {
     "iopub.execute_input": "2022-01-05T15:35:55.150465Z",
     "iopub.status.busy": "2022-01-05T15:35:55.149798Z",
     "iopub.status.idle": "2022-01-05T15:35:55.172119Z",
     "shell.execute_reply": "2022-01-05T15:35:55.171528Z",
     "shell.execute_reply.started": "2022-01-05T15:31:35.729238Z"
    },
    "papermill": {
     "duration": 0.03167,
     "end_time": "2022-01-05T15:35:55.172267",
     "exception": false,
     "start_time": "2022-01-05T15:35:55.140597",
     "status": "completed"
    },
    "tags": []
   },
   "outputs": [],
   "source": [
    "data = pd.read_csv('/kaggle/input/breast-cancer-wisconsin-data/data.csv')"
   ]
  },
  {
   "cell_type": "code",
   "execution_count": 4,
   "id": "fcd42947",
   "metadata": {
    "execution": {
     "iopub.execute_input": "2022-01-05T15:35:55.191251Z",
     "iopub.status.busy": "2022-01-05T15:35:55.189027Z",
     "iopub.status.idle": "2022-01-05T15:35:55.205705Z",
     "shell.execute_reply": "2022-01-05T15:35:55.206226Z",
     "shell.execute_reply.started": "2022-01-05T15:31:35.750587Z"
    },
    "papermill": {
     "duration": 0.02707,
     "end_time": "2022-01-05T15:35:55.206423",
     "exception": false,
     "start_time": "2022-01-05T15:35:55.179353",
     "status": "completed"
    },
    "tags": []
   },
   "outputs": [],
   "source": [
    "clean_data = data.copy()\n",
    "y = clean_data[[\"diagnosis\"]].copy() # Class variable will be in this dataframe\n",
    "sutun_isimleri = list(data.columns)\n",
    "sutun_isimleri.remove('Unnamed: 32')\n",
    "sutun_isimleri.remove('id')\n",
    "sutun_isimleri.remove('diagnosis')\n",
    "x = clean_data[sutun_isimleri] # All variables except Class Variable\n"
   ]
  },
  {
   "cell_type": "code",
   "execution_count": 5,
   "id": "a97361bd",
   "metadata": {
    "execution": {
     "iopub.execute_input": "2022-01-05T15:35:55.224079Z",
     "iopub.status.busy": "2022-01-05T15:35:55.223346Z",
     "iopub.status.idle": "2022-01-05T15:35:55.230109Z",
     "shell.execute_reply": "2022-01-05T15:35:55.230596Z",
     "shell.execute_reply.started": "2022-01-05T15:31:35.772350Z"
    },
    "papermill": {
     "duration": 0.016903,
     "end_time": "2022-01-05T15:35:55.230762",
     "exception": false,
     "start_time": "2022-01-05T15:35:55.213859",
     "status": "completed"
    },
    "tags": []
   },
   "outputs": [],
   "source": [
    "# SPLIT DATA FOR TRAINING AND TESTING\n",
    "X_train, X_test, y_train, y_test = train_test_split(x, y, test_size=0.33, random_state=324)\n"
   ]
  },
  {
   "cell_type": "code",
   "execution_count": 6,
   "id": "bac1d0b4",
   "metadata": {
    "execution": {
     "iopub.execute_input": "2022-01-05T15:35:55.253483Z",
     "iopub.status.busy": "2022-01-05T15:35:55.251143Z",
     "iopub.status.idle": "2022-01-05T15:35:55.266395Z",
     "shell.execute_reply": "2022-01-05T15:35:55.266895Z",
     "shell.execute_reply.started": "2022-01-05T15:31:35.782112Z"
    },
    "papermill": {
     "duration": 0.02928,
     "end_time": "2022-01-05T15:35:55.267064",
     "exception": false,
     "start_time": "2022-01-05T15:35:55.237784",
     "status": "completed"
    },
    "tags": []
   },
   "outputs": [
    {
     "data": {
      "text/plain": [
       "DecisionTreeClassifier(max_leaf_nodes=10, random_state=0)"
      ]
     },
     "execution_count": 6,
     "metadata": {},
     "output_type": "execute_result"
    }
   ],
   "source": [
    "# CREATING DECISIONTREECLASSIFIER MODEL\n",
    "diagnosis_classifier = DecisionTreeClassifier(max_leaf_nodes=10, random_state=0) # max_leaf=10dan fazla karar mekanizmasi olmasin\n",
    "diagnosis_classifier.fit(X_train, y_train) #train the model"
   ]
  },
  {
   "cell_type": "code",
   "execution_count": 7,
   "id": "beff9a8c",
   "metadata": {
    "execution": {
     "iopub.execute_input": "2022-01-05T15:35:55.284998Z",
     "iopub.status.busy": "2022-01-05T15:35:55.284339Z",
     "iopub.status.idle": "2022-01-05T15:35:55.289503Z",
     "shell.execute_reply": "2022-01-05T15:35:55.289997Z",
     "shell.execute_reply.started": "2022-01-05T15:31:35.808269Z"
    },
    "papermill": {
     "duration": 0.015615,
     "end_time": "2022-01-05T15:35:55.290178",
     "exception": false,
     "start_time": "2022-01-05T15:35:55.274563",
     "status": "completed"
    },
    "tags": []
   },
   "outputs": [],
   "source": [
    "# MAKE PREDICTION \n",
    "y_predicted = diagnosis_classifier.predict(X_test)"
   ]
  },
  {
   "cell_type": "code",
   "execution_count": 8,
   "id": "e0b09228",
   "metadata": {
    "execution": {
     "iopub.execute_input": "2022-01-05T15:35:55.311798Z",
     "iopub.status.busy": "2022-01-05T15:35:55.311104Z",
     "iopub.status.idle": "2022-01-05T15:35:55.313753Z",
     "shell.execute_reply": "2022-01-05T15:35:55.314270Z",
     "shell.execute_reply.started": "2022-01-05T15:31:35.815147Z"
    },
    "papermill": {
     "duration": 0.016627,
     "end_time": "2022-01-05T15:35:55.314475",
     "exception": false,
     "start_time": "2022-01-05T15:35:55.297848",
     "status": "completed"
    },
    "tags": []
   },
   "outputs": [
    {
     "name": "stdout",
     "output_type": "stream",
     "text": [
      "93.61702127659575\n"
     ]
    }
   ],
   "source": [
    "# Print out Accuracy Score\n",
    "print(accuracy_score(y_test, y_predicted)*100) # 93.61702127659575"
   ]
  }
 ],
 "metadata": {
  "kernelspec": {
   "display_name": "Python 3",
   "language": "python",
   "name": "python3"
  },
  "language_info": {
   "codemirror_mode": {
    "name": "ipython",
    "version": 3
   },
   "file_extension": ".py",
   "mimetype": "text/x-python",
   "name": "python",
   "nbconvert_exporter": "python",
   "pygments_lexer": "ipython3",
   "version": "3.7.12"
  },
  "papermill": {
   "default_parameters": {},
   "duration": 11.004806,
   "end_time": "2022-01-05T15:35:56.032463",
   "environment_variables": {},
   "exception": null,
   "input_path": "__notebook__.ipynb",
   "output_path": "__notebook__.ipynb",
   "parameters": {},
   "start_time": "2022-01-05T15:35:45.027657",
   "version": "2.3.3"
  }
 },
 "nbformat": 4,
 "nbformat_minor": 5
}
